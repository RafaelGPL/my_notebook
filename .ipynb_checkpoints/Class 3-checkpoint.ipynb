{
 "cells": [
  {
   "cell_type": "markdown",
   "id": "a45717f7",
   "metadata": {},
   "source": [
    "# Balanced parentheses check\n",
    "\n",
    "Given a string of opening and closing parentheses, check whether it is balanced.\n",
    "We have 3 types of parentheses: round (), square `[]` and curly {}.\n",
    "\n",
    "Assumptions: Parameter string doesn't contain any other characters other than these (no spaces, words or numbers).\n",
    "Balanced parentheses require every opening parentheses to be closed in the reverse order opened.\n",
    "\n",
    "## examples: ([]) is balanced, ([)] is not balanced.\n",
    "\n",
    "### instructions:\n",
    "Create a function called balance_check that takes a parameter \"s\".\n",
    "balance_check(\"()\") should return True."
   ]
  },
  {
   "cell_type": "code",
   "execution_count": 3,
   "id": "fc8deffb",
   "metadata": {},
   "outputs": [],
   "source": [
    "# Pseudo code to solve this problem:\n",
    "# define function \"balance_check\" with parameters: s (string):\n",
    "#     string_length = length_of(s)\n",
    "#     if string_length has an odd number of characters:\n",
    "#         return False\n",
    "#     else\n",
    "#         if the first character is an opening parentheses blablabla\n",
    "#     valid_matches = [(\"(\", \")\"), (\"[\", \"]\"), (\"{\", \"}\")]\n",
    "#     stack = new Stack() # create an instance of Stack()\n",
    "#     for each character in s:\n",
    "#         if the character is an opening parentheses:\n",
    "#             stack.push(character)\n",
    "#         else:\n",
    "#             last_parentheses = stack.pop()\n",
    "#             if (last_parentheses, character) not in valid_matches:\n",
    "#                return False\n",
    "#     return True if stack is empty, False otherwise\n",
    "\n",
    "class Stack:\n",
    "    def __init__(self):\n",
    "        self.items = []\n",
    "\n",
    "    def is_empty(self):\n",
    "        return self.items == []\n",
    "\n",
    "    def push(self, item):\n",
    "        self.items.append(item)\n",
    "\n",
    "    def pop(self):\n",
    "        return self.items.pop()\n",
    "\n",
    "    def peek(self):\n",
    "        return self.items[len(self.items)-1]\n",
    "\n",
    "    def size(self):\n",
    "        return len(self.items)\n",
    "\n",
    "    \n",
    "def balance_check(s):\n",
    "    if len(s) % 2 != 0:\n",
    "        return False\n",
    "    stack = Stack()\n",
    "    open_paren = set(\"([{\")\n",
    "    valid_matches = set(\n",
    "        [(\"(\", \")\"),\n",
    "         (\"[\", \"]\"),\n",
    "         (\"{\", \"}\")\n",
    "        ])\n",
    "    for character in s:\n",
    "        if character in open_paren:\n",
    "            stack.push(character)\n",
    "        else:\n",
    "            if stack.is_empty():\n",
    "                return False\n",
    "            last_open = stack.pop()\n",
    "            if (last_open, character) not in valid_matches:\n",
    "                return False\n",
    "    return stack.is_empty()\n"
   ]
  },
  {
   "cell_type": "code",
   "execution_count": 5,
   "id": "9b7ea22e",
   "metadata": {},
   "outputs": [
    {
     "name": "stdout",
     "output_type": "stream",
     "text": [
      "Test OK!\n"
     ]
    }
   ],
   "source": [
    "try:\n",
    "    assert balance_check(\"([{([({})])}])\") == True\n",
    "    assert balance_check(\"((((((())))))\") == False\n",
    "    assert balance_check(\"()()()[][]{(([]))}\") == True\n",
    "    print(\"Test OK!\")\n",
    "except AssertionError as assert_err:\n",
    "    print(assert_err)"
   ]
  },
  {
   "cell_type": "markdown",
   "id": "284e4a51",
   "metadata": {},
   "source": [
    "## Queue 2 stacks\n",
    "### Using two stacks create a queue.\n",
    "#### Stacks are LIFO. Queues are FIFO."
   ]
  },
  {
   "cell_type": "code",
   "execution_count": 9,
   "id": "5b1930ea",
   "metadata": {},
   "outputs": [],
   "source": [
    "class Queue2Stacks:\n",
    "    def __init__(self):\n",
    "        self.in_stack = []\n",
    "        self.out_stack = []\n",
    "\n",
    "    def enqueue(self, item):\n",
    "        self.in_stack.append(item)\n",
    "\n",
    "    def dequeue(self):\n",
    "        if not self.out_stack:\n",
    "            while self.in_stack:\n",
    "                item = self.in_stack.pop()\n",
    "                self.out_stack.append(item)\n",
    "        return self.out_stack.pop()\n",
    "\n",
    "def test_queue2stacks():\n",
    "    queue = Queue2Stacks()\n",
    "    for i in range(5):\n",
    "        print(\"Adding %s to the queue.\" % i)\n",
    "        queue.enqueue(i)\n",
    "    for i in range(5):\n",
    "        current = queue.dequeue()\n",
    "        assert current == i\n",
    "        print(\"Got %s from queue which meets requirements.\" % current)\n",
    "    \n",
    "    print(\"TOK\")\n"
   ]
  },
  {
   "cell_type": "code",
   "execution_count": 10,
   "id": "37200ac7",
   "metadata": {},
   "outputs": [
    {
     "name": "stdout",
     "output_type": "stream",
     "text": [
      "Adding 0 to the queue.\n",
      "Adding 1 to the queue.\n",
      "Adding 2 to the queue.\n",
      "Adding 3 to the queue.\n",
      "Adding 4 to the queue.\n",
      "Got 0 from queue which meets requirements.\n",
      "Got 1 from queue which meets requirements.\n",
      "Got 2 from queue which meets requirements.\n",
      "Got 3 from queue which meets requirements.\n",
      "Got 4 from queue which meets requirements.\n",
      "TOK\n"
     ]
    }
   ],
   "source": [
    "test_queue2stacks()"
   ]
  },
  {
   "cell_type": "code",
   "execution_count": null,
   "id": "82ae591a",
   "metadata": {},
   "outputs": [],
   "source": []
  }
 ],
 "metadata": {
  "kernelspec": {
   "display_name": "Python 3",
   "language": "python",
   "name": "python3"
  },
  "language_info": {
   "codemirror_mode": {
    "name": "ipython",
    "version": 3
   },
   "file_extension": ".py",
   "mimetype": "text/x-python",
   "name": "python",
   "nbconvert_exporter": "python",
   "pygments_lexer": "ipython3",
   "version": "3.9.7"
  }
 },
 "nbformat": 4,
 "nbformat_minor": 5
}
