{
 "cells": [
  {
   "cell_type": "code",
   "execution_count": 2,
   "id": "00a52026",
   "metadata": {},
   "outputs": [
    {
     "name": "stdout",
     "output_type": "stream",
     "text": [
      "h\n",
      "e\n",
      "l\n",
      "l\n",
      "o\n",
      ",\n",
      " \n",
      "w\n",
      "o\n",
      "r\n",
      "l\n",
      "d\n"
     ]
    }
   ],
   "source": [
    "for letter in \"hello, world\":\n",
    "    print(letter)"
   ]
  },
  {
   "cell_type": "markdown",
   "id": "b36c3225",
   "metadata": {},
   "source": [
    "# cars vs scar <- no problem\n",
    "# Cars vs Scar <- problem with uppercase and lowercase.\n",
    "# CARS vs SCAR <- no problem\n"
   ]
  },
  {
   "cell_type": "code",
   "execution_count": 1,
   "id": "0193df6a",
   "metadata": {},
   "outputs": [],
   "source": [
    "# define function sort_characters <- parameters: list_of_characters:\n",
    "# swap_detected = True\n",
    "# loop until swap_detected is False\n",
    "    # for each index in the range of the length of list_of_characters and store index temporarily i \"idx\":\n",
    "        # if the character at idx is greater than the character at idx+1:\n",
    "        #     temp_var = list_of_characters[idx]\n",
    "        #     temp_var_2 = list_of_characters[idx+1]\n",
    "        #     list_of_characters[idx] = temp_var_2\n",
    "        #     list_of_characters[idx+1] = temp_var\n",
    "        # else:\n",
    "        #     swap_detected is False\n",
    "# return list_of_characters\n",
    "\n",
    "# define function \"is_anagram\" <- parameters: string_a, string_b\n",
    "# if the length of string_a is not equal to the length of string_b; then\n",
    "#     return False\n",
    "# string_a = uppercase(string_a)\n",
    "# string_b = uppercase(string_b)\n",
    "# char_list_a = list()\n",
    "# char_list_b = list()\n",
    "# loop through every character in string_a and store value temporarily in \"char_a\":\n",
    "#     append char_a to char_list_a\n",
    "# loop through every character in string_b and store value temporarily in \"char_b\":\n",
    "#     append char_b to char_list_b\n",
    "# char_list_a = sort_characters(char_list_a)\n",
    "# char_list_b = sort_characters(char_list_b)\n",
    "# return True if char_list_a is equal to char_list_b; False otherwise\n",
    "\n"
   ]
  },
  {
   "cell_type": "code",
   "execution_count": 7,
   "id": "91f23e43",
   "metadata": {},
   "outputs": [
    {
     "name": "stdout",
     "output_type": "stream",
     "text": [
      "65\n",
      "A\n"
     ]
    }
   ],
   "source": [
    "char_num = ord('A')\n",
    "print(char_num)\n",
    "\n",
    "print(chr(char_num))\n",
    "\n",
    "# convert string_a to uppercase\n",
    "# conver string_b to uppercase"
   ]
  },
  {
   "cell_type": "code",
   "execution_count": 2,
   "id": "993dd03c",
   "metadata": {},
   "outputs": [],
   "source": [
    "def is_anagram(string_a, string_b):\n",
    "    if len(string_a) != len(string_b):\n",
    "        return False\n",
    "    char_times_a = dict()\n",
    "    char_times_b = dict()\n",
    "    for i in range(len(string_a)): # index\n",
    "        if string_a[i] not in char_times_a.keys():\n",
    "            char_times_a[string_a[i]] = 1\n",
    "        else:\n",
    "            char_times_a[string_a[i]] += 1\n",
    "        if string_b[i] not in char_times_b.keys():\n",
    "            char_times_b[string_b[i]] = 1\n",
    "        else:\n",
    "            char_times_b[string_b[i]] += 1\n",
    "    return char_times_a == char_times_b\n"
   ]
  },
  {
   "cell_type": "code",
   "execution_count": 5,
   "id": "796d6858",
   "metadata": {},
   "outputs": [
    {
     "data": {
      "text/plain": [
       "True"
      ]
     },
     "execution_count": 5,
     "metadata": {},
     "output_type": "execute_result"
    }
   ],
   "source": [
    "is_anagram(\"cars\", \"scar\")"
   ]
  },
  {
   "cell_type": "code",
   "execution_count": 6,
   "id": "c014dea3",
   "metadata": {},
   "outputs": [
    {
     "data": {
      "text/plain": [
       "False"
      ]
     },
     "execution_count": 6,
     "metadata": {},
     "output_type": "execute_result"
    }
   ],
   "source": [
    "is_anagram(\"cars\", \"sccr\")"
   ]
  },
  {
   "cell_type": "code",
   "execution_count": 7,
   "id": "3fd3af25",
   "metadata": {},
   "outputs": [
    {
     "data": {
      "text/plain": [
       "False"
      ]
     },
     "execution_count": 7,
     "metadata": {},
     "output_type": "execute_result"
    }
   ],
   "source": [
    "is_anagram(\"I am lord voldemort\", \"Tom Marvolo Riddle\")"
   ]
  },
  {
   "cell_type": "code",
   "execution_count": null,
   "id": "4e418608",
   "metadata": {},
   "outputs": [],
   "source": []
  }
 ],
 "metadata": {
  "kernelspec": {
   "display_name": "Python 3 (ipykernel)",
   "language": "python",
   "name": "python3"
  },
  "language_info": {
   "codemirror_mode": {
    "name": "ipython",
    "version": 3
   },
   "file_extension": ".py",
   "mimetype": "text/x-python",
   "name": "python",
   "nbconvert_exporter": "python",
   "pygments_lexer": "ipython3",
   "version": "3.9.7"
  }
 },
 "nbformat": 4,
 "nbformat_minor": 5
}
